{
 "cells": [
  {
   "cell_type": "markdown",
   "id": "32a728c1-14da-4d07-882a-9beca3b3b173",
   "metadata": {},
   "source": [
    "<h2>Dictionary<h2>"
   ]
  },
  {
   "cell_type": "code",
   "execution_count": 1,
   "id": "adeba077-189f-458e-b665-2cf4dd4961c4",
   "metadata": {},
   "outputs": [],
   "source": [
    "Bio={\"name\":\"obi\"}"
   ]
  },
  {
   "cell_type": "code",
   "execution_count": 2,
   "id": "326c1d16-5f14-49be-a416-89db18780494",
   "metadata": {},
   "outputs": [
    {
     "data": {
      "text/plain": [
       "{'name': 'obi'}"
      ]
     },
     "execution_count": 2,
     "metadata": {},
     "output_type": "execute_result"
    }
   ],
   "source": [
    "Bio"
   ]
  },
  {
   "cell_type": "code",
   "execution_count": 3,
   "id": "29a77c19-e12c-404c-ab2b-dec95c2b4e62",
   "metadata": {},
   "outputs": [],
   "source": [
    "Bio={\"name\":\"obi\",\"school\":\"harvet\",\"age\":20,\"sex\":\"male\"}"
   ]
  },
  {
   "cell_type": "code",
   "execution_count": 4,
   "id": "245f8c3e-db04-466a-938c-976853b53fed",
   "metadata": {},
   "outputs": [
    {
     "data": {
      "text/plain": [
       "{'name': 'obi', 'school': 'harvet', 'age': 20, 'sex': 'male'}"
      ]
     },
     "execution_count": 4,
     "metadata": {},
     "output_type": "execute_result"
    }
   ],
   "source": [
    "Bio"
   ]
  },
  {
   "cell_type": "code",
   "execution_count": 5,
   "id": "3f4a1e10-c911-4525-8d47-30a5bda132b6",
   "metadata": {},
   "outputs": [
    {
     "data": {
      "text/plain": [
       "dict_keys(['name', 'school', 'age', 'sex'])"
      ]
     },
     "execution_count": 5,
     "metadata": {},
     "output_type": "execute_result"
    }
   ],
   "source": [
    "Bio.keys()"
   ]
  },
  {
   "cell_type": "code",
   "execution_count": 6,
   "id": "5cdd65a3-cd9d-4d8c-86ba-b071515d8c8b",
   "metadata": {},
   "outputs": [
    {
     "data": {
      "text/plain": [
       "dict_values(['obi', 'harvet', 20, 'male'])"
      ]
     },
     "execution_count": 6,
     "metadata": {},
     "output_type": "execute_result"
    }
   ],
   "source": [
    "Bio.values()"
   ]
  },
  {
   "cell_type": "code",
   "execution_count": 7,
   "id": "81d0f33f-7b96-4c1a-ac32-0fe6fb2f0bff",
   "metadata": {},
   "outputs": [
    {
     "data": {
      "text/plain": [
       "dict_items([('name', 'obi'), ('school', 'harvet'), ('age', 20), ('sex', 'male')])"
      ]
     },
     "execution_count": 7,
     "metadata": {},
     "output_type": "execute_result"
    }
   ],
   "source": [
    "Bio.items()"
   ]
  },
  {
   "cell_type": "code",
   "execution_count": 8,
   "id": "946e3c15-d4df-4043-8fa0-b59f27b94a1e",
   "metadata": {},
   "outputs": [],
   "source": [
    "n={'coin':('bdc','eth','cake'),'fruit':('mango','apple','cucumber','watermelon','orange'),'cars':('toyota','lexus','enosome','honda')}"
   ]
  },
  {
   "cell_type": "code",
   "execution_count": 9,
   "id": "2c4480cc-4fbe-4478-a3a2-2187167edce1",
   "metadata": {},
   "outputs": [
    {
     "data": {
      "text/plain": [
       "{'coin': ('bdc', 'eth', 'cake'),\n",
       " 'fruit': ('mango', 'apple', 'cucumber', 'watermelon', 'orange'),\n",
       " 'cars': ('toyota', 'lexus', 'enosome', 'honda')}"
      ]
     },
     "execution_count": 9,
     "metadata": {},
     "output_type": "execute_result"
    }
   ],
   "source": [
    "n"
   ]
  },
  {
   "cell_type": "code",
   "execution_count": 10,
   "id": "00a55460-c90b-487a-a4c5-9fed594c2dfa",
   "metadata": {},
   "outputs": [
    {
     "data": {
      "text/plain": [
       "dict_keys(['coin', 'fruit', 'cars'])"
      ]
     },
     "execution_count": 10,
     "metadata": {},
     "output_type": "execute_result"
    }
   ],
   "source": [
    "n.keys()"
   ]
  },
  {
   "cell_type": "code",
   "execution_count": 11,
   "id": "e14ec95a-a9dd-4b0c-992c-fa79f6d62f81",
   "metadata": {},
   "outputs": [
    {
     "data": {
      "text/plain": [
       "dict_values([('bdc', 'eth', 'cake'), ('mango', 'apple', 'cucumber', 'watermelon', 'orange'), ('toyota', 'lexus', 'enosome', 'honda')])"
      ]
     },
     "execution_count": 11,
     "metadata": {},
     "output_type": "execute_result"
    }
   ],
   "source": [
    "n.values()"
   ]
  },
  {
   "cell_type": "code",
   "execution_count": 12,
   "id": "7711ac36-70cd-47fb-9427-e54b8f1f1670",
   "metadata": {},
   "outputs": [
    {
     "data": {
      "text/plain": [
       "dict_items([('coin', ('bdc', 'eth', 'cake')), ('fruit', ('mango', 'apple', 'cucumber', 'watermelon', 'orange')), ('cars', ('toyota', 'lexus', 'enosome', 'honda'))])"
      ]
     },
     "execution_count": 12,
     "metadata": {},
     "output_type": "execute_result"
    }
   ],
   "source": [
    "n.items()"
   ]
  },
  {
   "cell_type": "code",
   "execution_count": 13,
   "id": "2d3efd19-fbde-4a40-8e67-eb0f93cc06f1",
   "metadata": {},
   "outputs": [
    {
     "data": {
      "text/plain": [
       "('bdc', 'eth', 'cake')"
      ]
     },
     "execution_count": 13,
     "metadata": {},
     "output_type": "execute_result"
    }
   ],
   "source": [
    "n['coin']"
   ]
  },
  {
   "cell_type": "code",
   "execution_count": 14,
   "id": "b7f47eaa-0fe0-4e75-885e-35cfe1bb1beb",
   "metadata": {},
   "outputs": [],
   "source": [
    "n['coin']= ['satovis','plie','ice','twt']"
   ]
  },
  {
   "cell_type": "code",
   "execution_count": 15,
   "id": "271ab2c4-4a65-4a6f-9857-b58ab739f8a6",
   "metadata": {},
   "outputs": [
    {
     "data": {
      "text/plain": [
       "{'coin': ['satovis', 'plie', 'ice', 'twt'],\n",
       " 'fruit': ('mango', 'apple', 'cucumber', 'watermelon', 'orange'),\n",
       " 'cars': ('toyota', 'lexus', 'enosome', 'honda')}"
      ]
     },
     "execution_count": 15,
     "metadata": {},
     "output_type": "execute_result"
    }
   ],
   "source": [
    "n"
   ]
  },
  {
   "cell_type": "code",
   "execution_count": 16,
   "id": "c9e24e9c-5b34-43c8-8470-06c3fa980a05",
   "metadata": {},
   "outputs": [
    {
     "data": {
      "text/plain": [
       "'s'"
      ]
     },
     "execution_count": 16,
     "metadata": {},
     "output_type": "execute_result"
    }
   ],
   "source": [
    "n['coin'][0][0]"
   ]
  },
  {
   "cell_type": "code",
   "execution_count": 17,
   "id": "ccd91cb8-bc13-475f-949c-9ea89fb5208a",
   "metadata": {},
   "outputs": [
    {
     "data": {
      "text/plain": [
       "'satovis'"
      ]
     },
     "execution_count": 17,
     "metadata": {},
     "output_type": "execute_result"
    }
   ],
   "source": [
    "n['coin'][0]"
   ]
  },
  {
   "cell_type": "code",
   "execution_count": 18,
   "id": "cefc59cc-2b0e-4404-8cb5-0484c01966f4",
   "metadata": {},
   "outputs": [
    {
     "data": {
      "text/plain": [
       "'lexus'"
      ]
     },
     "execution_count": 18,
     "metadata": {},
     "output_type": "execute_result"
    }
   ],
   "source": [
    "n['cars'][1]"
   ]
  },
  {
   "cell_type": "code",
   "execution_count": null,
   "id": "88a6c37a-85e2-4df1-882e-dca05caad43c",
   "metadata": {},
   "outputs": [],
   "source": []
  }
 ],
 "metadata": {
  "kernelspec": {
   "display_name": "Python 3 (ipykernel)",
   "language": "python",
   "name": "python3"
  },
  "language_info": {
   "codemirror_mode": {
    "name": "ipython",
    "version": 3
   },
   "file_extension": ".py",
   "mimetype": "text/x-python",
   "name": "python",
   "nbconvert_exporter": "python",
   "pygments_lexer": "ipython3",
   "version": "3.11.7"
  }
 },
 "nbformat": 4,
 "nbformat_minor": 5
}
